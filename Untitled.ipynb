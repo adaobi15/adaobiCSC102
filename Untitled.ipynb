{
 "cells": [
  {
   "cell_type": "code",
   "execution_count": 2,
   "id": "d615595a",
   "metadata": {},
   "outputs": [
    {
     "data": {
      "text/plain": [
       "array([0., 0., 0.])"
      ]
     },
     "execution_count": 2,
     "metadata": {},
     "output_type": "execute_result"
    }
   ],
   "source": [
    "import numpy as np\n",
    "\n",
    "a = np.zeros(3)\n",
    "a"
   ]
  },
  {
   "cell_type": "code",
   "execution_count": 4,
   "id": "21238248",
   "metadata": {},
   "outputs": [
    {
     "data": {
      "text/plain": [
       "array([1., 1., 1., 1., 1., 1., 1., 1., 1., 1.])"
      ]
     },
     "execution_count": 4,
     "metadata": {},
     "output_type": "execute_result"
    }
   ],
   "source": [
    "z = np.ones (10)\n",
    "z"
   ]
  },
  {
   "cell_type": "code",
   "execution_count": 3,
   "id": "5e3fdc83",
   "metadata": {},
   "outputs": [
    {
     "ename": "NameError",
     "evalue": "name 'np' is not defined",
     "output_type": "error",
     "traceback": [
      "\u001b[1;31m---------------------------------------------------------------------------\u001b[0m",
      "\u001b[1;31mNameError\u001b[0m                                 Traceback (most recent call last)",
      "\u001b[1;32m~\\AppData\\Local\\Temp/ipykernel_14476/1161489754.py\u001b[0m in \u001b[0;36m<module>\u001b[1;34m\u001b[0m\n\u001b[1;32m----> 1\u001b[1;33m \u001b[0mz\u001b[0m \u001b[1;33m=\u001b[0m \u001b[0mnp\u001b[0m\u001b[1;33m.\u001b[0m\u001b[0mlinspace\u001b[0m\u001b[1;33m(\u001b[0m\u001b[1;36m2\u001b[0m\u001b[1;33m,\u001b[0m \u001b[1;36m10\u001b[0m\u001b[1;33m,\u001b[0m \u001b[1;36m5\u001b[0m\u001b[1;33m)\u001b[0m\u001b[1;33m\u001b[0m\u001b[1;33m\u001b[0m\u001b[0m\n\u001b[0m\u001b[0;32m      2\u001b[0m \u001b[0mz\u001b[0m\u001b[1;33m\u001b[0m\u001b[1;33m\u001b[0m\u001b[0m\n",
      "\u001b[1;31mNameError\u001b[0m: name 'np' is not defined"
     ]
    }
   ],
   "source": [
    "z = np.linspace(2, 10, 5)\n",
    "z"
   ]
  },
  {
   "cell_type": "code",
   "execution_count": 1,
   "id": "f8dde67e",
   "metadata": {},
   "outputs": [],
   "source": [
    "a = 1"
   ]
  },
  {
   "cell_type": "code",
   "execution_count": 2,
   "id": "2e00527b",
   "metadata": {},
   "outputs": [
    {
     "name": "stdout",
     "output_type": "stream",
     "text": [
      "1\n"
     ]
    }
   ],
   "source": [
    "print(a)"
   ]
  },
  {
   "cell_type": "code",
   "execution_count": null,
   "id": "f15c1e4d",
   "metadata": {},
   "outputs": [],
   "source": [
    "b = 2\n",
    "c = \"hello word\""
   ]
  },
  {
   "cell_type": "code",
   "execution_count": 3,
   "id": "1b686f6f",
   "metadata": {},
   "outputs": [],
   "source": [
    "a = \"first string\"\n",
    "b = \"second string\"\n"
   ]
  },
  {
   "cell_type": "code",
   "execution_count": 10,
   "id": "9d373343",
   "metadata": {},
   "outputs": [
    {
     "name": "stdout",
     "output_type": "stream",
     "text": [
      "first string\n"
     ]
    }
   ],
   "source": [
    "a = \"second string\"\n",
    "b = \"first string\"\n",
    "c = a\n",
    "a = b\n",
    "b = c\n",
    "    \n",
    "print(a)\n"
   ]
  },
  {
   "cell_type": "code",
   "execution_count": 1,
   "id": "f5534df0",
   "metadata": {},
   "outputs": [
    {
     "name": "stdout",
     "output_type": "stream",
     "text": [
      "i am a girl\n"
     ]
    }
   ],
   "source": [
    "#functions \n",
    "def functions():\n",
    "    print (\"girl\")\n",
    "    print(\"girl2\")\n",
    "print(\"i am a girl\")\n",
    "# the def function only the ran for the last part because the the remaining two were inside the function"
   ]
  },
  {
   "cell_type": "code",
   "execution_count": 2,
   "id": "d69c555b",
   "metadata": {},
   "outputs": [
    {
     "name": "stdout",
     "output_type": "stream",
     "text": [
      "girl\n",
      "girl2\n"
     ]
    }
   ],
   "source": [
    "functions()"
   ]
  },
  {
   "cell_type": "code",
   "execution_count": 5,
   "id": "91ef3f53",
   "metadata": {},
   "outputs": [],
   "source": [
    "# mapping\n",
    "def functions2 (x):\n",
    "    return 2 * x"
   ]
  },
  {
   "cell_type": "code",
   "execution_count": 6,
   "id": "d60dd910",
   "metadata": {},
   "outputs": [],
   "source": [
    "a = functions2(2)"
   ]
  },
  {
   "cell_type": "code",
   "execution_count": 7,
   "id": "92db96aa",
   "metadata": {},
   "outputs": [
    {
     "name": "stdout",
     "output_type": "stream",
     "text": [
      "4\n"
     ]
    }
   ],
   "source": [
    "print(a)"
   ]
  },
  {
   "cell_type": "code",
   "execution_count": 9,
   "id": "c5fa7010",
   "metadata": {},
   "outputs": [],
   "source": [
    "b = functions2(7)"
   ]
  },
  {
   "cell_type": "code",
   "execution_count": 11,
   "id": "b630da6c",
   "metadata": {},
   "outputs": [
    {
     "name": "stdout",
     "output_type": "stream",
     "text": [
      "14\n"
     ]
    }
   ],
   "source": [
    "print(b)"
   ]
  },
  {
   "cell_type": "code",
   "execution_count": 12,
   "id": "5d869344",
   "metadata": {},
   "outputs": [],
   "source": [
    "def function3 (x, y):\n",
    "    return x + y"
   ]
  },
  {
   "cell_type": "code",
   "execution_count": 16,
   "id": "ab322a51",
   "metadata": {},
   "outputs": [
    {
     "name": "stdout",
     "output_type": "stream",
     "text": [
      "13\n"
     ]
    }
   ],
   "source": [
    "d = function3(6,7)\n",
    "print(d)"
   ]
  },
  {
   "cell_type": "code",
   "execution_count": 17,
   "id": "1b8ddd68",
   "metadata": {},
   "outputs": [],
   "source": [
    "def function5(some_agru):\n",
    "    print(some_agru)\n",
    "    print(\"qw\")\n",
    "    #itll run normally because there is no return statement"
   ]
  },
  {
   "cell_type": "code",
   "execution_count": 18,
   "id": "6fa9c123",
   "metadata": {},
   "outputs": [
    {
     "name": "stdout",
     "output_type": "stream",
     "text": [
      "4\n",
      "qw\n"
     ]
    }
   ],
   "source": [
    "function5(4)"
   ]
  },
  {
   "cell_type": "code",
   "execution_count": 19,
   "id": "c684c9eb",
   "metadata": {},
   "outputs": [],
   "source": [
    "#bmi calculator"
   ]
  },
  {
   "cell_type": "code",
   "execution_count": 28,
   "id": "a49d5d66",
   "metadata": {},
   "outputs": [],
   "source": [
    "name1 =\"ho\"\n",
    "height_m1 = 2\n",
    "weight_kg1 = 52\n",
    "\n",
    "name2 =\"ko\"\n",
    "height_m2 = 3\n",
    "weight_kg2 = 73\n",
    "\n",
    "name3 =\"lo\"\n",
    "height_m3 = 4\n",
    "weight_kg3 = 62\n"
   ]
  },
  {
   "cell_type": "code",
   "execution_count": 32,
   "id": "044757f7",
   "metadata": {},
   "outputs": [],
   "source": [
    "def bmi_calculator(name, height_m, weight_kg):\n",
    "    bmi = weight_kg / (height_m ** 2)\n",
    "    print(\"bmi:\")\n",
    "    print(bmi)\n",
    "    if bmi < 100:\n",
    "        return name + \"not overweight\"\n",
    "    else:\n",
    "        return name + \"over weight\""
   ]
  },
  {
   "cell_type": "code",
   "execution_count": 34,
   "id": "d77888f9",
   "metadata": {},
   "outputs": [
    {
     "name": "stdout",
     "output_type": "stream",
     "text": [
      "bmi:\n",
      "13.0\n",
      "bmi:\n",
      "8.11111111111111\n",
      "bmi:\n",
      "3.875\n"
     ]
    }
   ],
   "source": [
    "result1 = bmi_calculator(name1, height_m1, weight_kg1)\n",
    "result2 = bmi_calculator(name2, height_m2, weight_kg2)\n",
    "result3 = bmi_calculator(name3, height_m3, weight_kg3)"
   ]
  },
  {
   "cell_type": "code",
   "execution_count": 35,
   "id": "0e2c25e9",
   "metadata": {},
   "outputs": [
    {
     "name": "stdout",
     "output_type": "stream",
     "text": [
      "honot overweight\n",
      "konot overweight\n",
      "lonot overweight\n"
     ]
    }
   ],
   "source": [
    "print(result1)\n",
    "print(result2)\n",
    "print(result3)\n",
    "\n"
   ]
  },
  {
   "cell_type": "code",
   "execution_count": null,
   "id": "aea1dd7e",
   "metadata": {},
   "outputs": [],
   "source": [
    "#a.append() to add to a list"
   ]
  }
 ],
 "metadata": {
  "kernelspec": {
   "display_name": "Python 3 (ipykernel)",
   "language": "python",
   "name": "python3"
  },
  "language_info": {
   "codemirror_mode": {
    "name": "ipython",
    "version": 3
   },
   "file_extension": ".py",
   "mimetype": "text/x-python",
   "name": "python",
   "nbconvert_exporter": "python",
   "pygments_lexer": "ipython3",
   "version": "3.9.7"
  }
 },
 "nbformat": 4,
 "nbformat_minor": 5
}
