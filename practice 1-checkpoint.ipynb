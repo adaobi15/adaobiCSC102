{
 "cells": [
  {
   "cell_type": "code",
   "execution_count": 6,
   "id": "bd010cc9",
   "metadata": {},
   "outputs": [
    {
     "name": "stdout",
     "output_type": "stream",
     "text": [
      "ada\n",
      "sope\n",
      "james\n"
     ]
    }
   ],
   "source": [
    "names = [\"ada\", \"sope\", \"james\"]\n",
    "print (names[0] + \"\\n\" + names[1] + \"\\n\"+ names[2])"
   ]
  },
  {
   "cell_type": "code",
   "execution_count": 24,
   "id": "38699456",
   "metadata": {},
   "outputs": [
    {
     "ename": "SyntaxError",
     "evalue": "invalid syntax (Temp/ipykernel_6452/4145559757.py, line 6)",
     "output_type": "error",
     "traceback": [
      "\u001b[1;36m  File \u001b[1;32m\"C:\\Users\\adaobi\\AppData\\Local\\Temp/ipykernel_6452/4145559757.py\"\u001b[1;36m, line \u001b[1;32m6\u001b[0m\n\u001b[1;33m    i = i++\u001b[0m\n\u001b[1;37m           ^\u001b[0m\n\u001b[1;31mSyntaxError\u001b[0m\u001b[1;31m:\u001b[0m invalid syntax\n"
     ]
    }
   ],
   "source": [
    "#iterating through a list using for loop \n",
    "names = [\"ada\", \"sope\", \"james\"]\n",
    "i = 0\n",
    "\n",
    "for i in names:\n",
    "    print (i)\n"
   ]
  },
  {
   "cell_type": "code",
   "execution_count": 20,
   "id": "4e27cc05",
   "metadata": {},
   "outputs": [
    {
     "name": "stdout",
     "output_type": "stream",
     "text": [
      "['adaobi', 'sope', 'james']\n"
     ]
    },
    {
     "data": {
      "text/plain": [
       "False"
      ]
     },
     "execution_count": 20,
     "metadata": {},
     "output_type": "execute_result"
    }
   ],
   "source": [
    "#tuples are not mutable\n",
    "names = [\"ada\", \"sope\", \"james\"]\n",
    "\n",
    "names[0] = \"adaobi\"\n",
    "\n",
    "print (names)\n",
    "\n",
    "\"james\" in names"
   ]
  },
  {
   "cell_type": "code",
   "execution_count": 16,
   "id": "cfb0f820",
   "metadata": {},
   "outputs": [
    {
     "name": "stdout",
     "output_type": "stream",
     "text": [
      "ada\n"
     ]
    }
   ],
   "source": [
    "a = \"adaobi\"\n",
    "print (a[0] + a[1] + a[2] )\n"
   ]
  },
  {
   "cell_type": "code",
   "execution_count": 18,
   "id": "20ce466a",
   "metadata": {},
   "outputs": [
    {
     "name": "stdout",
     "output_type": "stream",
     "text": [
      "adaobi arinzechi\n"
     ]
    }
   ],
   "source": [
    "a = \"adaobi\"\n",
    "b =\"arinzechi\"\n",
    "\n",
    "print (a +\" \"+ b)"
   ]
  },
  {
   "cell_type": "code",
   "execution_count": null,
   "id": "a86735f8",
   "metadata": {},
   "outputs": [],
   "source": []
  }
 ],
 "metadata": {
  "kernelspec": {
   "display_name": "Python 3 (ipykernel)",
   "language": "python",
   "name": "python3"
  },
  "language_info": {
   "codemirror_mode": {
    "name": "ipython",
    "version": 3
   },
   "file_extension": ".py",
   "mimetype": "text/x-python",
   "name": "python",
   "nbconvert_exporter": "python",
   "pygments_lexer": "ipython3",
   "version": "3.9.7"
  }
 },
 "nbformat": 4,
 "nbformat_minor": 5
}
