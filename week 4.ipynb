{
 "cells": [
  {
   "cell_type": "code",
   "execution_count": 5,
   "id": "c69b66de",
   "metadata": {},
   "outputs": [
    {
     "data": {
      "text/html": [
       "<div>\n",
       "<style scoped>\n",
       "    .dataframe tbody tr th:only-of-type {\n",
       "        vertical-align: middle;\n",
       "    }\n",
       "\n",
       "    .dataframe tbody tr th {\n",
       "        vertical-align: top;\n",
       "    }\n",
       "\n",
       "    .dataframe thead th {\n",
       "        text-align: right;\n",
       "    }\n",
       "</style>\n",
       "<table border=\"1\" class=\"dataframe\">\n",
       "  <thead>\n",
       "    <tr style=\"text-align: right;\">\n",
       "      <th></th>\n",
       "      <th>names</th>\n",
       "      <th>age</th>\n",
       "      <th>height</th>\n",
       "      <th>scores</th>\n",
       "    </tr>\n",
       "  </thead>\n",
       "  <tbody>\n",
       "    <tr>\n",
       "      <th>0</th>\n",
       "      <td>charles</td>\n",
       "      <td>15</td>\n",
       "      <td>5.7</td>\n",
       "      <td>85</td>\n",
       "    </tr>\n",
       "    <tr>\n",
       "      <th>1</th>\n",
       "      <td>Jude</td>\n",
       "      <td>16</td>\n",
       "      <td>5.9</td>\n",
       "      <td>74</td>\n",
       "    </tr>\n",
       "    <tr>\n",
       "      <th>2</th>\n",
       "      <td>James</td>\n",
       "      <td>16</td>\n",
       "      <td>5.8</td>\n",
       "      <td>87</td>\n",
       "    </tr>\n",
       "    <tr>\n",
       "      <th>3</th>\n",
       "      <td>kelvin</td>\n",
       "      <td>17</td>\n",
       "      <td>6.1</td>\n",
       "      <td>75</td>\n",
       "    </tr>\n",
       "    <tr>\n",
       "      <th>4</th>\n",
       "      <td>Prosper</td>\n",
       "      <td>14</td>\n",
       "      <td>5.9</td>\n",
       "      <td>68</td>\n",
       "    </tr>\n",
       "  </tbody>\n",
       "</table>\n",
       "</div>"
      ],
      "text/plain": [
       "     names  age height scores\n",
       "0  charles   15    5.7     85\n",
       "1     Jude   16    5.9     74\n",
       "2    James   16    5.8     87\n",
       "3   kelvin   17    6.1     75\n",
       "4  Prosper   14    5.9     68"
      ]
     },
     "execution_count": 5,
     "metadata": {},
     "output_type": "execute_result"
    }
   ],
   "source": [
    "import pandas as pd\n",
    "girls = {'names':[\"Ann\", \"Jane\", \"Joan\" , \"Clare\", \"Elizabeth\"],\n",
    "         'age':[\"14\", \"16\", \"14\", \"17\", \"16\"],\n",
    "         'height':[\"5.5\", \"6\", \"5.4\", \"5.9\",\"5.6\"],\n",
    "         'scores':[\"80\", \"85\", \"70\", \"60\", \"76\"]}\n",
    "\n",
    "boys = {'names': [\"charles\", \"Jude\", \"James\",\"kelvin\",\"Prosper\"],\n",
    "      'age': [\"15\",\"16\",\"16\", \" 17\", \"14\"],\n",
    "      'height':[\"5.7\",\"5.9\", \"5.8\",\"6.1\",\"5.9\"],\n",
    "      'scores':[\"85\",\"74\",\"87\",\"75\",\"68\"]}\n",
    "\n",
    "df = pd.DataFrame(girls)\n",
    "df = pd.DataFrame(boys)\n",
    "\n",
    "df.to_csv('girls.csv')\n",
    "df"
   ]
  },
  {
   "cell_type": "code",
   "execution_count": null,
   "id": "9faf481d",
   "metadata": {},
   "outputs": [],
   "source": []
  }
 ],
 "metadata": {
  "kernelspec": {
   "display_name": "Python 3 (ipykernel)",
   "language": "python",
   "name": "python3"
  },
  "language_info": {
   "codemirror_mode": {
    "name": "ipython",
    "version": 3
   },
   "file_extension": ".py",
   "mimetype": "text/x-python",
   "name": "python",
   "nbconvert_exporter": "python",
   "pygments_lexer": "ipython3",
   "version": "3.9.7"
  }
 },
 "nbformat": 4,
 "nbformat_minor": 5
}
