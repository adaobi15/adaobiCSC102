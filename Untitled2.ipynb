{
 "cells": [
  {
   "cell_type": "markdown",
   "id": "30521314",
   "metadata": {},
   "source": [
    "## CLASS PROJECT 1"
   ]
  },
  {
   "cell_type": "code",
   "execution_count": null,
   "id": "65ec8e31",
   "metadata": {},
   "outputs": [],
   "source": [
    "employees = [\"Mary Evans\", \"Eyo Ishan\", \"Durojaiye Dare\", \"Adams Ali\", \"Andrew Ugwu\", \"Stella Mankinde\", \"Jane Akibo\", \"Ago James\", \"Michell Taiwo\", \"Abraham Jones\" , \"Nicole Anide\", \"Kosi Korso\", \"Adele Martins\", \"Emmanuel Ojo\", \"Ajayi Fatima\"]\n",
    "tasks = [ \"Loading\", \"Transporting\", \"Reveiwing Orders\", \"Customer Service\", \"Delivering Items\"]\n",
    "\n",
    "class employees:\n",
    "    \n",
    "    \n",
    "    def __init__(self,name):\n",
    "        self.name = name \n",
    "    def check_employee():\n",
    "        if name in employees:\n",
    "            print (\"an employee\")\n",
    "            else:\n",
    "                print(\"not an employee\")\n",
    "    def  take_attendance():\n",
    "        \n",
    "        \n",
    "       "
   ]
  }
 ],
 "metadata": {
  "kernelspec": {
   "display_name": "Python 3 (ipykernel)",
   "language": "python",
   "name": "python3"
  },
  "language_info": {
   "codemirror_mode": {
    "name": "ipython",
    "version": 3
   },
   "file_extension": ".py",
   "mimetype": "text/x-python",
   "name": "python",
   "nbconvert_exporter": "python",
   "pygments_lexer": "ipython3",
   "version": "3.9.7"
  }
 },
 "nbformat": 4,
 "nbformat_minor": 5
}
