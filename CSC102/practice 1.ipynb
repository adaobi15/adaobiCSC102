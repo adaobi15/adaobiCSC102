{
 "cells": [
  {
   "cell_type": "code",
   "execution_count": 6,
   "id": "8ce27733",
   "metadata": {},
   "outputs": [
    {
     "name": "stdout",
     "output_type": "stream",
     "text": [
      "ada\n",
      "sope\n",
      "james\n"
     ]
    }
   ],
   "source": [
    "names = [\"ada\", \"sope\", \"james\"]\n",
    "print (names[0] + \"\\n\" + names[1] + \"\\n\"+ names[2])"
   ]
  },
  {
   "cell_type": "code",
   "execution_count": 57,
   "id": "e0832a5b",
   "metadata": {},
   "outputs": [
    {
     "name": "stdout",
     "output_type": "stream",
     "text": [
      "ada\n",
      "sope\n",
      "james\n",
      "sophia\n",
      "bolu\n",
      "bimpe\n"
     ]
    }
   ],
   "source": [
    "#iterating through a list using for loop \n",
    "names = [\"ada\", \"sope\", \"james\", \"sophia\", \"bolu\" , \"bimpe\"]\n",
    "i = 0\n",
    "\n",
    "for i in names:\n",
    "    print (i)\n",
    "\n",
    "#len(names)\n",
    "\n",
    "#range(start,stop,step)\n",
    "#for i in range(1,5,3):\n",
    "    #print (names[i])"
   ]
  },
  {
   "cell_type": "code",
   "execution_count": 20,
   "id": "1d1223f6",
   "metadata": {},
   "outputs": [
    {
     "name": "stdout",
     "output_type": "stream",
     "text": [
      "['adaobi', 'sope', 'james']\n"
     ]
    },
    {
     "data": {
      "text/plain": [
       "False"
      ]
     },
     "execution_count": 20,
     "metadata": {},
     "output_type": "execute_result"
    }
   ],
   "source": [
    "#tuples are not mutable\n",
    "names = [\"ada\", \"sope\", \"james\"]\n",
    "\n",
    "names[0] = \"adaobi\"\n",
    "\n",
    "print (names)\n",
    "\n",
    "\"james\" in names"
   ]
  },
  {
   "cell_type": "code",
   "execution_count": 16,
   "id": "39845c3b",
   "metadata": {},
   "outputs": [
    {
     "name": "stdout",
     "output_type": "stream",
     "text": [
      "ada\n"
     ]
    }
   ],
   "source": [
    "a = \"adaobi\"\n",
    "print (a[0] + a[1] + a[2] )\n"
   ]
  },
  {
   "cell_type": "code",
   "execution_count": 18,
   "id": "7b932d0a",
   "metadata": {},
   "outputs": [
    {
     "name": "stdout",
     "output_type": "stream",
     "text": [
      "adaobi arinzechi\n"
     ]
    }
   ],
   "source": [
    "a = \"adaobi\"\n",
    "b =\"arinzechi\"\n",
    "\n",
    "print (a +\" \"+ b)"
   ]
  },
  {
   "cell_type": "code",
   "execution_count": 96,
   "id": "bfb406c2",
   "metadata": {},
   "outputs": [
    {
     "name": "stdout",
     "output_type": "stream",
     "text": [
      "[10, 20, 30, 40, 50, 60, 70]\n"
     ]
    }
   ],
   "source": [
    "names = [10, 20, 30, 40, 50, 60, 70, 80, 90, 100, 110, 120, 130, 140, 150]\n",
    "\n",
    "del names[7:150]\n",
    "print (names)\n",
    "#print (names[0:3]) #slice\n",
    "\n",
    "#for i in range(2,5):\n",
    "   # print (names[i])"
   ]
  },
  {
   "cell_type": "code",
   "execution_count": null,
   "id": "d7ed3a7f",
   "metadata": {},
   "outputs": [],
   "source": [
    "# a = [1, 2 , 3]\n",
    "b = [4, 5, 6]\n",
    "c = a + b\n",
    "print(c)\n",
    "d = a *3\n",
    "print(d[0] , d[1])"
   ]
  },
  {
   "cell_type": "code",
   "execution_count": 62,
   "id": "52e1fc7c",
   "metadata": {},
   "outputs": [
    {
     "name": "stdout",
     "output_type": "stream",
     "text": [
      "3\n",
      "6\n",
      "12\n"
     ]
    }
   ],
   "source": [
    "a = [1, 2, 4]\n",
    "i = 0\n",
    "for i in a:\n",
    "    print (i * 3)"
   ]
  },
  {
   "cell_type": "code",
   "execution_count": 83,
   "id": "2f6b6e9b",
   "metadata": {},
   "outputs": [
    {
     "name": "stdout",
     "output_type": "stream",
     "text": [
      "['ada', 'james', 'sope']\n"
     ]
    }
   ],
   "source": [
    "names = [\"ada\", \"sope\", \"james\"]\n",
    "surnames = [\"arinze\", \"ade\", \"john\"]\n",
    "\n",
    "#names.append(\"joel\")\n",
    "#names.append(surnames)\n",
    "#names.extend(surnames)\n",
    "names.sort()\n",
    "\n",
    "print (names)"
   ]
  },
  {
   "cell_type": "code",
   "execution_count": 90,
   "id": "2523a777",
   "metadata": {},
   "outputs": [
    {
     "name": "stdout",
     "output_type": "stream",
     "text": [
      "19\n"
     ]
    }
   ],
   "source": [
    "def add_all(t):\n",
    "    total = 0\n",
    "    for i in t:\n",
    "        total += i\n",
    "    return total\n",
    "\n",
    "a = [3, 6, 7, 2, 0, 1]\n",
    "add_all(a)\n",
    "        "
   ]
  },
  {
   "cell_type": "code",
   "execution_count": null,
   "id": "12c57b90",
   "metadata": {},
   "outputs": [],
   "source": []
  }
 ],
 "metadata": {
  "kernelspec": {
   "display_name": "Python 3 (ipykernel)",
   "language": "python",
   "name": "python3"
  },
  "language_info": {
   "codemirror_mode": {
    "name": "ipython",
    "version": 3
   },
   "file_extension": ".py",
   "mimetype": "text/x-python",
   "name": "python",
   "nbconvert_exporter": "python",
   "pygments_lexer": "ipython3",
   "version": "3.9.7"
  }
 },
 "nbformat": 4,
 "nbformat_minor": 5
}
