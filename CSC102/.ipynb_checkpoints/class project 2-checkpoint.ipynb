{
 "cells": [
  {
   "cell_type": "markdown",
   "id": "95925303",
   "metadata": {},
   "source": [
    "num = int(input(\"Enter a number to generate its pattern = \"))\n",
    "for i in range (1, num + 1):\n",
    "    for j in rnge (1, i + 1):\n",
    "         print(j, end = \" \")\n",
    "     print()"
   ]
  },
  {
   "cell_type": "code",
   "execution_count": null,
   "id": "6a19e27d",
   "metadata": {},
   "outputs": [],
   "source": [
    "num = int(input(\"Enter a number to generate its pattern = \"))\n",
    "for i in range (1, num + 1):\n",
    "    for j in rnge (1, i + 1):\n",
    "        print(j, end = \" \") \n",
    "    print()"
   ]
  },
  {
   "cell_type": "code",
   "execution_count": null,
   "id": "6b71022a",
   "metadata": {},
   "outputs": [],
   "source": [
    "num = 2\n",
    "for i in range (2 , 50):\n",
    "    j = 2\n",
    "    while ( j <= (i/2)):\n",
    "        if (i % j == 0): \n",
    "            break\n",
    "        j += 1\n",
    "    if (j > i/j):\n",
    "        print (i, \"is a prime number\")\n",
    "    print (\"bye, bye!!\")"
   ]
  },
  {
   "cell_type": "code",
   "execution_count": null,
   "id": "b0b6b5a5",
   "metadata": {},
   "outputs": [],
   "source": [
    "num = int(input(\"enter a number: \"))\n",
    "fact = 1\n",
    "if num < 0:\n",
    "    print(\"sorry, factorial does not exist for negative numbers\")\n",
    "elif num == 0:\n",
    "    print(\"The factorial of 0 is 1\")\n",
    "else:\n",
    "    for i in range (1, num + 1 ):\n",
    "        fact = fact * 1\n",
    "        print(\"factorial of \", num \"is \", fact)"
   ]
  },
  {
   "cell_type": "code",
   "execution_count": null,
   "id": "944c319c",
   "metadata": {},
   "outputs": [],
   "source": [
    "num = int(input(\"Enter the number to be checked \"))\n",
    "flag = 0\n",
    "if num > 1:\n",
    "    for i in range (2, int(num / 2)):\n",
    "        flag = 1\n",
    "        break\n",
    "    if flag == 1:\n",
    "        print(num, \"is not a prime number\")\n",
    "    else:\n",
    "        print(num, \"is a prime number\")\n",
    "else:\n",
    "    print(\"Enter number is <= 1, execute again!\")"
   ]
  },
  {
   "cell_type": "code",
   "execution_count": null,
   "id": "1ea22468",
   "metadata": {},
   "outputs": [],
   "source": [
    "distance = input(input(\"what is the distance?\"))\n",
    "time = input(input(\" what is the time?\"))\n",
    "s = distance/time\n",
    "print (s, \"miles/hr\")"
   ]
  },
  {
   "cell_type": "code",
   "execution_count": null,
   "id": "21784aed",
   "metadata": {},
   "outputs": [],
   "source": []
  }
 ],
 "metadata": {
  "kernelspec": {
   "display_name": "Python 3 (ipykernel)",
   "language": "python",
   "name": "python3"
  },
  "language_info": {
   "codemirror_mode": {
    "name": "ipython",
    "version": 3
   },
   "file_extension": ".py",
   "mimetype": "text/x-python",
   "name": "python",
   "nbconvert_exporter": "python",
   "pygments_lexer": "ipython3",
   "version": "3.9.7"
  }
 },
 "nbformat": 4,
 "nbformat_minor": 5
}
