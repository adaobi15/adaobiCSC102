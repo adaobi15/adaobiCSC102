{
 "cells": [
  {
   "cell_type": "code",
   "execution_count": 10,
   "id": "9253ef86",
   "metadata": {},
   "outputs": [],
   "source": [
    "def avoids(letter, words):\n",
    "    for j in letters:\n",
    "        if i in words:\n",
    "            return true\n",
    "        return false"
   ]
  },
  {
   "cell_type": "code",
   "execution_count": null,
   "id": "5814b7cb",
   "metadata": {},
   "outputs": [],
   "source": []
  },
  {
   "cell_type": "code",
   "execution_count": 8,
   "id": "aa05a2f6",
   "metadata": {},
   "outputs": [
    {
     "name": "stdout",
     "output_type": "stream",
     "text": [
      "what is the distance?5\n",
      " what is the time?8\n",
      "0.625 miles/hr\n"
     ]
    }
   ],
   "source": [
    "d = int(input(\"what is the distance?\"))\n",
    "t = int(input(\" what is the time?\"))\n",
    "s = (d/t)\n",
    "print (s, \"miles/hr\")"
   ]
  },
  {
   "cell_type": "code",
   "execution_count": 6,
   "id": "eb3e03dd",
   "metadata": {},
   "outputs": [
    {
     "name": "stdout",
     "output_type": "stream",
     "text": [
      "throw a number 7\n",
      "throw a number 10\n",
      "jane wins\n"
     ]
    }
   ],
   "source": [
    "jane = int(input(\"throw a number \"))\n",
    "jack = int(input(\"throw a number \"))\n",
    "sum = (jane + jack)\n",
    "if jane % 2  == sum % 2 and jack % 2 == sum % 2:\n",
    "    print(\"you both win\")\n",
    "elif jane % 2  != sum % 2 and jack % 2 == sum % 2:\n",
    "        print(\"jack wins\")\n",
    "elif jane % 2 == sum % 2 and jack % 2 != sum % 2: \n",
    "                print(\"jane wins\")\n",
    "else:\n",
    "                print(\"you both loose\")"
   ]
  },
  {
   "cell_type": "code",
   "execution_count": null,
   "id": "117058d2",
   "metadata": {},
   "outputs": [],
   "source": []
  },
  {
   "cell_type": "code",
   "execution_count": null,
   "id": "7f2b822c",
   "metadata": {},
   "outputs": [],
   "source": []
  }
 ],
 "metadata": {
  "kernelspec": {
   "display_name": "Python 3 (ipykernel)",
   "language": "python",
   "name": "python3"
  },
  "language_info": {
   "codemirror_mode": {
    "name": "ipython",
    "version": 3
   },
   "file_extension": ".py",
   "mimetype": "text/x-python",
   "name": "python",
   "nbconvert_exporter": "python",
   "pygments_lexer": "ipython3",
   "version": "3.9.7"
  }
 },
 "nbformat": 4,
 "nbformat_minor": 5
}
