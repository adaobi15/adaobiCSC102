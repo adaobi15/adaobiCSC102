{
 "cells": [
  {
   "cell_type": "code",
   "execution_count": 1,
   "id": "75b3d38b",
   "metadata": {},
   "outputs": [],
   "source": [
    "# i\n",
    "def avoids(letter, words):\n",
    "    for j in letters:\n",
    "        if i in words:\n",
    "            return true\n",
    "        return false"
   ]
  },
  {
   "cell_type": "code",
   "execution_count": null,
   "id": "98c82623",
   "metadata": {},
   "outputs": [],
   "source": []
  },
  {
   "cell_type": "markdown",
   "id": "f6d10ac2",
   "metadata": {},
   "source": [
    "## 2"
   ]
  },
  {
   "cell_type": "code",
   "execution_count": null,
   "id": "aa05a2f6",
   "metadata": {},
   "outputs": [],
   "source": [
    "d = int(input(\"what is the distance?\"))\n",
    "t = int(input(\" what is the time?\"))\n",
    "s = (d/t)\n",
    "print (s, \"miles/hr\")"
   ]
  },
  {
   "cell_type": "markdown",
   "id": "fff88171",
   "metadata": {},
   "source": [
    "## 3"
   ]
  },
  {
   "cell_type": "code",
   "execution_count": null,
   "id": "eb3e03dd",
   "metadata": {},
   "outputs": [],
   "source": [
    "jane = int(input(\"throw a number \"))\n",
    "jack = int(input(\"throw a number \"))\n",
    "sum = (jane + jack)\n",
    "if jane % 2  == sum % 2 and jack % 2 == sum % 2:\n",
    "    print(\"you both win\")\n",
    "elif jane % 2  != sum % 2 and jack % 2 == sum % 2:\n",
    "        print(\"jack wins\")\n",
    "elif jane % 2 == sum % 2 and jack % 2 != sum % 2: \n",
    "                print(\"jane wins\")\n",
    "else:\n",
    "                print(\"you both loose\")"
   ]
  },
  {
   "cell_type": "markdown",
   "id": "92d7973a",
   "metadata": {},
   "source": [
    "# 4"
   ]
  },
  {
   "cell_type": "code",
   "execution_count": null,
   "id": "6fa0aa03",
   "metadata": {},
   "outputs": [],
   "source": [
    "s = 'aeiou'\n",
    "s2 = 'aaeiou'\n",
    "def checker(s):\n",
    "    return all(s.lower().count(i)==1 for i in 'aeiou')\n",
    "print(checker(s))\n",
    "print(checker(s2))"
   ]
  },
  {
   "cell_type": "code",
   "execution_count": null,
   "id": "df142777",
   "metadata": {},
   "outputs": [],
   "source": [
    "\n",
    "from tabulate import tabulate\n",
    "table = [['name','age','height','score'],['anne','14','5.5',\n",
    "                                        '80'],['jane','16','6','85'],['joan','14','5.4','70'],['clare','17','5.9','60'],['elizabeth','16','5.6','76']]\n",
    "print(tabulate(table))\n"
   ]
  },
  {
   "cell_type": "code",
   "execution_count": null,
   "id": "7a4df17a",
   "metadata": {},
   "outputs": [],
   "source": []
  },
  {
   "cell_type": "code",
   "execution_count": null,
   "id": "1f310496",
   "metadata": {},
   "outputs": [],
   "source": [
    "\n",
    "from openpyxl import work, load_workbook\n",
    "wb = workbook()\n",
    "ws = wb.active\n",
    "ws.title = \" n\"\n",
    "ws.append ([\"name\",\"age\"])\n",
    "ws.append ([\"e\",0])\n",
    "ws.save[\"Book1.xlsx\"]"
   ]
  }
 ],
 "metadata": {
  "kernelspec": {
   "display_name": "Python 3 (ipykernel)",
   "language": "python",
   "name": "python3"
  },
  "language_info": {
   "codemirror_mode": {
    "name": "ipython",
    "version": 3
   },
   "file_extension": ".py",
   "mimetype": "text/x-python",
   "name": "python",
   "nbconvert_exporter": "python",
   "pygments_lexer": "ipython3",
   "version": "3.9.7"
  }
 },
 "nbformat": 4,
 "nbformat_minor": 5
}
